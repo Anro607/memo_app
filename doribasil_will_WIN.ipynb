{
  "nbformat": 4,
  "nbformat_minor": 0,
  "metadata": {
    "colab": {
      "provenance": [],
      "authorship_tag": "ABX9TyNo3aDiLbqReWnDrT7yeVqm",
      "include_colab_link": true
    },
    "kernelspec": {
      "name": "python3",
      "display_name": "Python 3"
    },
    "language_info": {
      "name": "python"
    }
  },
  "cells": [
    {
      "cell_type": "markdown",
      "metadata": {
        "id": "view-in-github",
        "colab_type": "text"
      },
      "source": [
        "<a href=\"https://colab.research.google.com/github/Anro607/memo_app/blob/main/doribasil_will_WIN.ipynb\" target=\"_parent\"><img src=\"https://colab.research.google.com/assets/colab-badge.svg\" alt=\"Open In Colab\"/></a>"
      ]
    },
    {
      "cell_type": "markdown",
      "source": [
        "# 2023학년도 교과융합 탐구 보고서 - 고전문학에 워투벡을 얹어드셔보세요(가제)\n",
        "https://www.notion.so/ae8770f8f03e4028a746618d5074831c\n",
        "<-내 노션바로가기"
      ],
      "metadata": {
        "id": "Ft0On8DWpM4l"
      }
    },
    {
      "cell_type": "code",
      "execution_count": 2,
      "metadata": {
        "id": "FxbcHp32e7hu"
      },
      "outputs": [],
      "source": [
        "#웹 크롤\n",
        "import requests\n",
        "\n",
        "#전처리\n",
        "import re\n",
        "import urllib.request\n",
        "import zipfile\n",
        "from lxml import etree\n",
        "from nltk.tokenize import word_tokenize, sent_tokenize\n",
        "\n",
        "#워드투벡\n",
        "from gensim.models import Word2Vec\n",
        "from gensim.models import KeyedVectors"
      ]
    },
    {
      "cell_type": "markdown",
      "source": [
        "# 1. 웹 크롤링, 문자열 인덱싱으로 전처리하기"
      ],
      "metadata": {
        "id": "MyMjF9xt23N7"
      }
    },
    {
      "cell_type": "code",
      "source": [
        "#웹 크롤링을 사용해 gutenberq에서 업로드한 도리온 그레이의 초상 원문 가져오기\n",
        "\n",
        "url = \"https://www.gutenberg.org/cache/epub/174/pg174.txt\"  #Plain Text UTF-8\n",
        "all_html = requests.get(url)                                #가져오기\n",
        "print(all_html.text)                                        #제대로 가져와졌는지 확인"
      ],
      "metadata": {
        "id": "Q5SQtggTtZ1z"
      },
      "execution_count": null,
      "outputs": []
    },
    {
      "cell_type": "code",
      "source": [
        "dorion = all_html.text                                      #전체 내용 텍스트"
      ],
      "metadata": {
        "id": "R21COh51uuvr"
      },
      "execution_count": 8,
      "outputs": []
    },
    {
      "cell_type": "markdown",
      "source": [
        "현재 dorion 변수에는 도리온 그레이의 초상 원문 뿐 아닌 구텐베르크 각주, 오스카와일드 작가의 말, 목차 등 분석에 불필요한 요소가 포함됨.\n",
        "\n",
        "남겨야 할 것:\n",
        "\n",
        "&nbsp;&nbsp;&nbsp;&nbsp;&nbsp; a. 본문\n",
        "\n",
        "삭제해야 할 것:\n",
        "1. 'The Project Gutenberg eBook of The Picture of Dorian Gray' ~ 'CHAPTER I.'\n",
        "2. 'CHAPTER II', 'CHAPTER III' 등 I~XX 챕터 문구.\n",
        "3. '  *** END OF THE PROJECT GUTENBERG EBOOK THE PICTURE OF DORIAN GRAY' ~ 끝까지\n",
        "\n",
        "이를 a만 남기고, 본문 사이 2를 없애는 과정으로 어쩌구"
      ],
      "metadata": {
        "id": "jpkiCMRYu-16"
      }
    },
    {
      "cell_type": "code",
      "source": [
        "one = dorion.find('The studio was filled with the rich odour of roses,')                    #첫문장 (3314)\n",
        "three = dorion.find('THE END')                                                              #디엔드 (438613)\n",
        "print(one)\n",
        "print(three)"
      ],
      "metadata": {
        "id": "gYvIpA6Wwc3Q"
      },
      "execution_count": null,
      "outputs": []
    },
    {
      "cell_type": "markdown",
      "source": [
        "고로 dorion 문자열 변수에서 0\\~3314 인덱스와 438613\\~끝 인덱스를 잘라야 하기에\n",
        "반대로 3314\\~438612 인덱스를 남길 것이다.\n",
        "\n",
        "(438613이 아닌 438612을 잘라야 THE END의 'T'가 사라짐)"
      ],
      "metadata": {
        "id": "p8P-e9mZy_5R"
      }
    },
    {
      "cell_type": "code",
      "source": [
        "a = dorion[3314: 438612]\n",
        "print(a)"
      ],
      "metadata": {
        "id": "MnyJhilby-sz"
      },
      "execution_count": null,
      "outputs": []
    },
    {
      "cell_type": "markdown",
      "source": [
        "챕터 표기를 포함한 본문을 뽑아냄!"
      ],
      "metadata": {
        "id": "TCGwo0-C3Nje"
      }
    },
    {
      "cell_type": "code",
      "source": [
        "chapter = ['CHAPTER II.','CHAPTER III.','CHAPTER IV.','CHAPTER V.','CHAPTER VI.'\n",
        "          ,'CHAPTER VII.','CHAPTER VIII.','CHAPTER IX.','CHAPTER X.','CHAPTER XI.'\n",
        "          ,'CHAPTER XII.','CHAPTER XIII.','CHAPTER XIV.','CHAPTER XV.','CHAPTER XVI.',\n",
        "           'CHAPTER XVII.','CHAPTER XVIII.','CHAPTER XIX.','CHAPTER XX.']                 #챕터리스트리스트 엌ㅋㅋ\n",
        "b = a                                                                                     #원본 보호를 위한 임시 변수\n",
        "for i in chapter:\n",
        "  b = b.replace(i,'')                                                                     #제거\n",
        "\n",
        "print(b.find('CHAPTER'))                                                                  #잘 제거됐는지 확인(-1은 해당 문자가 없다는 뜻!)"
      ],
      "metadata": {
        "colab": {
          "base_uri": "https://localhost:8080/"
        },
        "id": "6F9BxxKf3Mfr",
        "outputId": "a1d1018e-eee7-42bb-c6d3-1798e48d3143"
      },
      "execution_count": 21,
      "outputs": [
        {
          "output_type": "stream",
          "name": "stdout",
          "text": [
            "-1\n"
          ]
        }
      ]
    },
    {
      "cell_type": "markdown",
      "source": [
        "필요한 요소만 남기는 일에 성공했으니 이제 진짜 토큰화를 해보자.\n",
        "\n",
        "참고한 글 = https://wikidocs.net/21698"
      ],
      "metadata": {
        "id": "P_Iy5tvx6Mle"
      }
    }
  ]
}